{
 "cells": [
  {
   "cell_type": "code",
   "execution_count": 1,
   "metadata": {},
   "outputs": [],
   "source": [
    "import torch\n",
    "import torch.nn as nn\n",
    "import torch.nn.functional as F\n",
    "import numpy as np\n",
    "from model.model import CAERSNet\n",
    "from data_loader.data_loaders import MyDataset, CAERSDataLoader"
   ]
  },
  {
   "cell_type": "code",
   "execution_count": 19,
   "metadata": {},
   "outputs": [],
   "source": [
    "from base import BaseModel\n",
    "\n",
    "class Encoder(nn.Module):\n",
    "    def __init__(self, num_kernels, kernel_size=3, bn=True, max_pool=True, maxpool_kernel_size=2):\n",
    "        super().__init__()\n",
    "        padding = (kernel_size - 1) // 2\n",
    "        n = len(num_kernels) - 1\n",
    "        self.convs = nn.ModuleList([nn.Conv2d(\n",
    "            num_kernels[i], num_kernels[i+1], kernel_size, padding=padding) for i in range(n)])\n",
    "        self.bn = nn.ModuleList([nn.BatchNorm2d(num_kernels[i+1])\n",
    "                                 for i in range(n)]) if bn else None\n",
    "        self.max_pool = nn.MaxPool2d(maxpool_kernel_size) if max_pool else None\n",
    "\n",
    "    def forward(self, x):\n",
    "        n = len(self.convs)\n",
    "        for i in range(n):\n",
    "            x = self.convs[i](x)\n",
    "            if self.bn is not None:\n",
    "                x = self.bn[i](x)\n",
    "            x = F.relu(x) \n",
    "            if self.max_pool is not None and i < n-1:  # check if i < n\n",
    "                x = self.max_pool(x)\n",
    "        return x\n",
    "\n",
    "\n",
    "class TwoStreamNetwork(nn.Module):\n",
    "    def __init__(self):\n",
    "        super().__init__()\n",
    "        num_kernels = [3, 32, 64, 128, 256, 256]\n",
    "        self.face_encoding_module = Encoder(num_kernels)\n",
    "        self.context_encoding_module = Encoder(num_kernels)\n",
    "        self.attention_inference_module = Encoder(\n",
    "            [256, 128, 1], max_pool=False)\n",
    "\n",
    "    def forward(self, face, context):\n",
    "        face = self.face_encoding_module(face)\n",
    "\n",
    "        context = self.context_encoding_module(context)\n",
    "        attention = self.attention_inference_module(context)\n",
    "        N, C, H, W = attention.shape\n",
    "        attention = F.softmax(attention.view(\n",
    "            N, -1), dim=-1).view(N, C, H, W)\n",
    "        context = context * attention\n",
    "\n",
    "        return face, context\n",
    "\n",
    "\n",
    "class FusionNetwork(nn.Module):\n",
    "    def __init__(self, use_face=True, use_context=True, concat=False, num_class=7):\n",
    "        super().__init__()\n",
    "        # add batch norm to ensure the mean and std of \n",
    "        # face and context features are not too different\n",
    "        self.face_bn = nn.BatchNorm1d(256)\n",
    "        self.context_bn = nn.BatchNorm1d(256)\n",
    "\n",
    "        self.use_face, self.use_context = use_face, use_context\n",
    "        self.concat = concat\n",
    "\n",
    "        self.face_1 = nn.Linear(256, 128)\n",
    "        self.face_2 = nn.Linear(128, 1)\n",
    "\n",
    "        self.context_1 = nn.Linear(256, 128)\n",
    "        self.context_2 = nn.Linear(128, 1)\n",
    "\n",
    "        self.fc1 = nn.Linear(512, 128)\n",
    "        self.fc2 = nn.Linear(128, num_class)\n",
    "\n",
    "        self.dropout = nn.Dropout()\n",
    "\n",
    "    def forward(self, face, context):\n",
    "        face = F.avg_pool2d(face, face.shape[2]).view(face.shape[0], -1)\n",
    "        context = F.avg_pool2d(context, context.shape[2]).view(context.shape[0], -1)\n",
    "\n",
    "        # add batch norm for face and context branch\n",
    "        face, context = self.face_bn(face), self.context_bn(context)\n",
    "\n",
    "        if not self.concat:\n",
    "            lambda_f = F.relu(self.face_1(face))\n",
    "            lambda_c = F.relu(self.context_1(context))\n",
    "\n",
    "            lambda_f = self.face_2(lambda_f)\n",
    "            lambda_c = self.context_2(lambda_c)\n",
    "\n",
    "            weights = torch.cat([lambda_f, lambda_c], dim=-1)\n",
    "            weights = F.softmax(weights, dim=-1)\n",
    "            face = face * weights[:, 0].unsqueeze(dim=-1)\n",
    "            context = context * weights[:, 1].unsqueeze(dim=-1)\n",
    "\n",
    "        if not self.use_face:\n",
    "            face = torch.zeros_like(face)\n",
    "\n",
    "        if not self.use_context:\n",
    "            context = torch.zeros_like(context)\n",
    "\n",
    "        features = torch.cat([face, context], dim=-1)\n",
    "        features = F.relu(self.fc1(features))\n",
    "        features = self.dropout(features)\n",
    "\n",
    "        return self.fc2(features), (face, context)\n",
    "\n",
    "\n",
    "class CAERSNet(BaseModel):\n",
    "    def __init__(self, use_face=True, use_context=True, concat=False):\n",
    "        super().__init__()\n",
    "        self.two_stream_net = TwoStreamNetwork()\n",
    "        self.fusion_net = FusionNetwork(use_face, use_context, concat)\n",
    "\n",
    "    def forward(self, face=None, context=None):\n",
    "        face, context = self.two_stream_net(face, context)\n",
    "\n",
    "        return self.fusion_net(face, context)\n",
    "    "
   ]
  },
  {
   "cell_type": "code",
   "execution_count": 20,
   "metadata": {},
   "outputs": [],
   "source": [
    "model = CAERSNet()"
   ]
  },
  {
   "cell_type": "code",
   "execution_count": 23,
   "metadata": {},
   "outputs": [
    {
     "data": {
      "text/plain": [
       "(tensor(49.4656, grad_fn=<DivBackward0>),\n",
       " tensor(37.4199, grad_fn=<DivBackward0>))"
      ]
     },
     "execution_count": 23,
     "metadata": {},
     "output_type": "execute_result"
    }
   ],
   "source": [
    "face, context = torch.rand(32, 3, 96, 96), torch.rand(32, 3, 112, 112)\n",
    "_, (fft, cft) = model(face, context)\n",
    "fft.mean() / cft.mean(), fft.std() / cft.std()"
   ]
  },
  {
   "cell_type": "code",
   "execution_count": null,
   "metadata": {},
   "outputs": [],
   "source": []
  }
 ],
 "metadata": {
  "kernelspec": {
   "display_name": "Python 3",
   "language": "python",
   "name": "python3"
  },
  "language_info": {
   "codemirror_mode": {
    "name": "ipython",
    "version": 3
   },
   "file_extension": ".py",
   "mimetype": "text/x-python",
   "name": "python",
   "nbconvert_exporter": "python",
   "pygments_lexer": "ipython3",
   "version": "3.6.9"
  }
 },
 "nbformat": 4,
 "nbformat_minor": 4
}
